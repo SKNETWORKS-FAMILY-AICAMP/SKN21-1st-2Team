{
 "cells": [
  {
   "cell_type": "code",
   "execution_count": 2,
   "id": "95c4237e",
   "metadata": {},
   "outputs": [
    {
     "name": "stdout",
     "output_type": "stream",
     "text": [
      "Requirement already satisfied: pandas in /Library/Frameworks/Python.framework/Versions/3.13/lib/python3.13/site-packages (2.3.3)\n",
      "Requirement already satisfied: numpy>=1.26.0 in /Library/Frameworks/Python.framework/Versions/3.13/lib/python3.13/site-packages (from pandas) (2.3.3)\n",
      "Requirement already satisfied: python-dateutil>=2.8.2 in /Library/Frameworks/Python.framework/Versions/3.13/lib/python3.13/site-packages (from pandas) (2.9.0.post0)\n",
      "Requirement already satisfied: pytz>=2020.1 in /Library/Frameworks/Python.framework/Versions/3.13/lib/python3.13/site-packages (from pandas) (2025.2)\n",
      "Requirement already satisfied: tzdata>=2022.7 in /Library/Frameworks/Python.framework/Versions/3.13/lib/python3.13/site-packages (from pandas) (2025.2)\n",
      "Requirement already satisfied: six>=1.5 in /Library/Frameworks/Python.framework/Versions/3.13/lib/python3.13/site-packages (from python-dateutil>=2.8.2->pandas) (1.17.0)\n",
      "Note: you may need to restart the kernel to use updated packages.\n"
     ]
    }
   ],
   "source": [
    "pip install pandas"
   ]
  },
  {
   "cell_type": "code",
   "execution_count": 7,
   "id": "9f8fd29a",
   "metadata": {},
   "outputs": [
    {
     "name": "stdout",
     "output_type": "stream",
     "text": [
      "Defaulting to user installation because normal site-packages is not writeable\n",
      "Collecting xlrd\n",
      "  Downloading xlrd-2.0.2-py2.py3-none-any.whl (96 kB)\n",
      "\u001b[K     |████████████████████████████████| 96 kB 8.9 MB/s eta 0:00:011\n",
      "\u001b[?25hInstalling collected packages: xlrd\n",
      "Successfully installed xlrd-2.0.2\n",
      "\u001b[33mWARNING: You are using pip version 21.2.4; however, version 25.2 is available.\n",
      "You should consider upgrading via the '/Library/Developer/CommandLineTools/usr/bin/python3 -m pip install --upgrade pip' command.\u001b[0m\n",
      "Note: you may need to restart the kernel to use updated packages.\n"
     ]
    }
   ],
   "source": [
    "pip install xlrd"
   ]
  },
  {
   "cell_type": "code",
   "execution_count": 13,
   "id": "ae793e08",
   "metadata": {},
   "outputs": [
    {
     "name": "stdout",
     "output_type": "stream",
     "text": [
      "Defaulting to user installation because normal site-packages is not writeable\n",
      "Collecting openpyxl\n",
      "  Downloading openpyxl-3.1.5-py2.py3-none-any.whl (250 kB)\n",
      "\u001b[K     |████████████████████████████████| 250 kB 9.5 MB/s eta 0:00:01\n",
      "\u001b[?25hCollecting et-xmlfile\n",
      "  Downloading et_xmlfile-2.0.0-py3-none-any.whl (18 kB)\n",
      "Installing collected packages: et-xmlfile, openpyxl\n",
      "Successfully installed et-xmlfile-2.0.0 openpyxl-3.1.5\n",
      "\u001b[33mWARNING: You are using pip version 21.2.4; however, version 25.2 is available.\n",
      "You should consider upgrading via the '/Library/Developer/CommandLineTools/usr/bin/python3 -m pip install --upgrade pip' command.\u001b[0m\n",
      "Note: you may need to restart the kernel to use updated packages.\n"
     ]
    }
   ],
   "source": [
    "pip install openpyxl"
   ]
  },
  {
   "cell_type": "code",
   "execution_count": 8,
   "id": "67922bb8",
   "metadata": {},
   "outputs": [],
   "source": [
    "import pandas as pd\n",
    "import os"
   ]
  },
  {
   "cell_type": "code",
   "execution_count": 10,
   "id": "c59a5de3",
   "metadata": {},
   "outputs": [],
   "source": [
    "xls_file= '/Users/anhyebin/Documents/SKN21/SKN21-1st-2Team/data/raw/ev_year_origin.xls'\n",
    "df = pd.read_excel(xls_file, engine='xlrd')\n",
    "\n",
    "\n"
   ]
  },
  {
   "cell_type": "code",
   "execution_count": 12,
   "id": "a2f0a2f5",
   "metadata": {},
   "outputs": [],
   "source": [
    "csv_file = \"/Users/anhyebin/Documents/SKN21/SKN21-1st-2Team/data/raw/ev_year_origin.csv\"\n",
    "df.to_csv(csv_file, index=False, encoding=\"utf-8\")"
   ]
  },
  {
   "cell_type": "code",
   "execution_count": 15,
   "id": "931bff87",
   "metadata": {},
   "outputs": [],
   "source": [
    "xlsx_file ='/Users/anhyebin/Documents/SKN21/SKN21-1st-2Team/data/processed/h2_faq.xlsx'\n",
    "df = pd.read_excel(xlsx_file, engine='openpyxl')"
   ]
  },
  {
   "cell_type": "code",
   "execution_count": 16,
   "id": "b06c64cf",
   "metadata": {},
   "outputs": [],
   "source": [
    "csv_file = \"/Users/anhyebin/Documents/SKN21/SKN21-1st-2Team/data/processed/h2_faq.csv\"\n",
    "df.to_csv(csv_file, index=False, encoding=\"utf-8\")"
   ]
  },
  {
   "cell_type": "code",
   "execution_count": 20,
   "id": "81334fc2",
   "metadata": {},
   "outputs": [],
   "source": [
    "file_path=\"/Users/anhyebin/Documents/SKN21/SKN21-1st-2Team/SKN21-1st-2Team/data/raw/수소충전소.csv\"\n",
    "\n",
    "df = pd.read_csv(file_path, header=2)\n",
    "\n",
    "df_new = df[['충전소', '주소', '요금', '연락처']].copy()\n",
    "\n",
    "df_new.columns = ['h2_name', 'addr', 'pay', 'tel']\n",
    "df_new.insert(0, 'no', range(1, len(df_new)+1))"
   ]
  },
  {
   "cell_type": "code",
   "execution_count": null,
   "id": "a7320938",
   "metadata": {},
   "outputs": [],
   "source": [
    "df.to_csv(file_path, index=False, encoding='utf-8-sig')"
   ]
  },
  {
   "cell_type": "code",
   "execution_count": null,
   "id": "8700f7a9",
   "metadata": {},
   "outputs": [
    {
     "name": "stdout",
     "output_type": "stream",
     "text": [
      "   no             h2_name addr    pay          tel\n",
      "0   1   서울특별시 서소문청사 수소충전소   서울   8800  07086481164\n",
      "1   2  H광진 Moving Station   서울   8800    024635694\n",
      "2   3             도봉수소충전소   서울  10500    029567001\n",
      "3   4     서울특별시 상암수소스테이션    서울   8800   0231510336\n",
      "4   5         마곡 에코 수소충전소   서울   9900   0260818883\n"
     ]
    }
   ],
   "source": [
    "\n",
    "\n",
    "# CSV 불러오기\n",
    "df = pd.read_csv(\"data/raw/h2hub_clean.csv\", encoding='utf-8-sig')\n",
    "\n",
    "# 컬럼 이름 확인\n",
    "#print(\"컬럼명:\", df.columns.tolist())\n",
    "\n",
    "# 컬럼 이름 변경\n",
    "df.rename(columns={'주소': 'addr', '충전소': 'h2_name', '요금': 'pay', '연락처': 'tel'}, inplace=True)\n",
    "\n",
    "# 주소 \n",
    "addr_map = {\n",
    "    '서울': '서울', '서울특별시': '서울', \n",
    "    '세종':'세종,', '세종특별자치시':'세종', \n",
    "    '부산': '부산', '부산광역시': '부산',\n",
    "    '대구': '대구', '대구광역시': '대구',\n",
    "    '인천': '인천', '인천광역시': '인천',\n",
    "    '광주': '광주', '광주광역시': '광주',\n",
    "    '대전': '대전',\n",
    "    '울산': '울산', '울산광역시': '울산',\n",
    "    '전남':'전남', '전라남도': '전남',\n",
    "    '전북':'전북', '전라북도': '전북',\n",
    "    '경기':'경기', '경기도': '경기',\n",
    "    '강원도': '강원', '강원특별자치도': '강원',\n",
    "    '충북':'충북', '충청북도': '충북',\n",
    "    '충남':'충남', '충청남도': '충남',\n",
    "    '경북':'경북', '경상북도': '경북',\n",
    "    '경남':'경남', '경상남도': '경남', \n",
    "    '제주':'제주', '제주특별자치도': '제주'\n",
    "}\n",
    "\n",
    "def simplify_addr(addr):\n",
    "    if pd.isna(addr) or str(addr).strip() == \"\":\n",
    "        return 'None'\n",
    "    for key in addr_map:\n",
    "        if addr.startswith(key):\n",
    "            return addr_map[key]\n",
    "    return addr\n",
    "\n",
    "df['addr'] = df['addr'].apply(simplify_addr)\n",
    "\n",
    "#요금\n",
    "# 쉼표와 '원' 제거, 숫자형 변환\n",
    "df['pay'] = df['pay'].astype(str).str.replace(',', '', regex=False)  # 쉼표 제거\n",
    "df['pay'] = df['pay'].str.replace('원', '', regex=False)             # '원' 제거\n",
    "df['pay'] = df['pay'].str.strip()                                     # 앞뒤 공백 제거\n",
    "df['pay'] = df['pay'].replace('', '0')                                # 빈 문자열은 0으로\n",
    "df['pay'] = df['pay'].astype(int)  \n",
    "\n",
    "#연락처\n",
    "def clean_tel(tel):\n",
    "    if pd.isna(tel) or str(tel).strip() == \"\":\n",
    "        return 'None'\n",
    "    return str(tel).replace('-', '').strip()\n",
    "\n",
    "df['tel'] = df['tel'].apply(clean_tel)\n",
    "\n",
    "\n",
    "\n",
    "# 상위 5줄 확인\n",
    "print(df.head())\n",
    "\n",
    "df.to_csv(file_path, index=False, encoding='utf-8-sig')"
   ]
  },
  {
   "cell_type": "code",
   "execution_count": 41,
   "id": "1d19c1d6",
   "metadata": {},
   "outputs": [
    {
     "name": "stdout",
     "output_type": "stream",
     "text": [
      "Collecting openpyxl\n",
      "  Downloading openpyxl-3.1.5-py2.py3-none-any.whl.metadata (2.5 kB)\n",
      "Collecting et-xmlfile (from openpyxl)\n",
      "  Downloading et_xmlfile-2.0.0-py3-none-any.whl.metadata (2.7 kB)\n",
      "Downloading openpyxl-3.1.5-py2.py3-none-any.whl (250 kB)\n",
      "Downloading et_xmlfile-2.0.0-py3-none-any.whl (18 kB)\n",
      "Installing collected packages: et-xmlfile, openpyxl\n",
      "\u001b[2K   \u001b[90m━━━━━━━━━━━━━━━━━━━━━━━━━━━━━━━━━━━━━━━━\u001b[0m \u001b[32m2/2\u001b[0m [openpyxl]\n",
      "\u001b[1A\u001b[2KSuccessfully installed et-xmlfile-2.0.0 openpyxl-3.1.5\n",
      "Note: you may need to restart the kernel to use updated packages.\n"
     ]
    }
   ],
   "source": [
    "pip install openpyxl"
   ]
  },
  {
   "cell_type": "code",
   "execution_count": 42,
   "id": "2e03df9d",
   "metadata": {},
   "outputs": [],
   "source": [
    "excel_path = \"data/processed/h2hub.xlsx\"\n",
    "df.to_excel(excel_path, index=False) "
   ]
  },
  {
   "cell_type": "code",
   "execution_count": 1,
   "id": "9c2d2b51",
   "metadata": {},
   "outputs": [],
   "source": [
    "import pandas as pd"
   ]
  },
  {
   "cell_type": "code",
   "execution_count": null,
   "id": "eeeb9ee5",
   "metadata": {},
   "outputs": [],
   "source": [
    "data_path ='/Users/anhyebin/Documents/SKN21/SKN21-1st-2Team/data/raw/ev_year.csv'\n",
    "\n",
    "df = pd.read_csv(data_path,header=3)\n",
    "\n",
    "#'년월'에서 연도 추출\n",
    "df['연도'] = df['년월'].astype(str).str[:4].astype(int)\n",
    "\n",
    "# '연도'별 '합계' 총합 구하기\n",
    "result = df.groupby('연도')['합계'].sum().reset_index()\n",
    "\n",
    "# 결과 저장\n",
    "result.to_csv(\"/Users/anhyebin/Documents/SKN21/SKN21-1st-2Team/data/raw/ev_year.csv\", index=False, encoding='utf-8-sig')\n",
    "\n"
   ]
  },
  {
   "cell_type": "code",
   "execution_count": null,
   "id": "665734dd",
   "metadata": {},
   "outputs": [],
   "source": [
    "#수소차충전소- 지역별 개수\n",
    "\n",
    "import pandas as pd\n",
    "\n",
    "#CSV 파일 읽기\n",
    "df = pd.read_csv(\"/Users/anhyebin/Documents/SKN21/SKN21-1st-2Team/data/processed/h2_station.csv\")\n",
    "\n",
    "#결측 주소 제거 (빈칸 또는 NaN)\n",
    "#df['addr'] = df['addr'].fillna('').astype(str).str.strip()\n",
    "#df = df[df['addr'] != '']\n",
    "\n",
    "#addr별 개수 세기\n",
    "addr_count = df['addr'].value_counts().reset_index()\n",
    "\n",
    "#열 이름 바꾸기\n",
    "addr_count.columns = ['region', 'charger_number']\n",
    "\n",
    "#CSV로 저장\n",
    "addr_count.to_csv(\"/Users/anhyebin/Documents/SKN21/SKN21-1st-2Team/data/processed/h2_station_region_count.csv\", index=False, encoding='utf-8-sig')\n",
    "\n"
   ]
  },
  {
   "cell_type": "code",
   "execution_count": 29,
   "id": "70809df2",
   "metadata": {},
   "outputs": [],
   "source": [
    "#전기차 충전소 - 지역별 개수\n",
    "\n",
    "import pandas as pd\n",
    "\n",
    "#CSV 불러오기\n",
    "\n",
    "df = pd.read_csv(\"/Users/anhyebin/Documents/SKN21/SKN21-1st-2Team/data/raw/ev_station.csv\", header=3)\n",
    "\n",
    "\n",
    "selected = df.iloc[[0, 1]]\n",
    "\n",
    "# '충전속도'는 제외하고, '서울'부터 '합계'까지만 선택\n",
    "cols_to_sum = ['서울', '경기', '인천', '경상', '전라', '충청', '강원', '제주', '합계']\n",
    "sum_result = selected[cols_to_sum].sum(numeric_only=True)\n",
    "\n",
    "# 결과를 데이터프레임으로 변환\n",
    "result_df = pd.DataFrame({\n",
    "    'region': sum_result.index,\n",
    "    'charger_number': sum_result.values\n",
    "})\n",
    "\n",
    "# 새로운 CSV 파일로 저장\n",
    "result_df.to_csv(\"/Users/anhyebin/Documents/SKN21/SKN21-1st-2Team/data/processed/ev_station_region_count.csv\", index=False, encoding='utf-8-sig')\n"
   ]
  },
  {
   "cell_type": "code",
   "execution_count": null,
   "id": "d8652d11",
   "metadata": {},
   "outputs": [
    {
     "name": "stderr",
     "output_type": "stream",
     "text": [
      "/var/folders/yp/z5nzs43n4f33qt0kt_7r79lw0000gn/T/ipykernel_25525/377865447.py:16: SettingWithCopyWarning: \n",
      "A value is trying to be set on a copy of a slice from a DataFrame.\n",
      "Try using .loc[row_indexer,col_indexer] = value instead\n",
      "\n",
      "See the caveats in the documentation: https://pandas.pydata.org/pandas-docs/stable/user_guide/indexing.html#returning-a-view-versus-a-copy\n",
      "  dec_df['합계'] = dec_df['합계'].astype(str).str.replace(r'[^0-9]', '', regex=True).astype(int)\n"
     ]
    }
   ],
   "source": [
    "#전기차 충전소 - 연도별 개수   -> 필요없음!!!!\n",
    "\n",
    "import pandas as pd\n",
    "\n",
    "#CSV 불러오기 (4행이 컬럼명)\n",
    "df = pd.read_csv(\"/Users/anhyebin/Documents/SKN21/SKN21-1st-2Team/data/raw/ev_station.csv\", header=3)\n",
    "\n",
    "#'년월'에서 연도와 월 추출\n",
    "df['year'] = df['년월'].astype(str).str[:4].astype(int)\n",
    "df['month'] = df['년월'].astype(str).str[5:7].astype(int)\n",
    "\n",
    "#12월 데이터만 선택\n",
    "dec_df = df[df['month'] == 12]\n",
    "\n",
    "#'합계' 열 숫자형으로 변환\n",
    "dec_df['합계'] = dec_df['합계'].astype(str).str.replace(r'[^0-9]', '', regex=True).astype(int)\n",
    "\n",
    "#연도별 충전기 수 계산\n",
    "yearly_dec_sum = dec_df.groupby('year')['합계'].sum().reset_index()\n",
    "yearly_dec_sum.columns = ['year', 'charger_number']\n",
    "\n",
    "\n",
    "#CSV 저장\n",
    "yearly_dec_sum.to_csv(\"/Users/anhyebin/Documents/SKN21/SKN21-1st-2Team/data/processed/ev_station_yearly_count.csv\", index=False, encoding='utf-8-sig')\n"
   ]
  },
  {
   "cell_type": "code",
   "execution_count": 34,
   "id": "d57049c7",
   "metadata": {},
   "outputs": [],
   "source": [
    "#연도별 수소차 현황\n",
    "\n",
    "import pandas as pd\n",
    "\n",
    "#CSV 불러오기\n",
    "df = pd.read_csv(\"/Users/anhyebin/Documents/SKN21/SKN21-1st-2Team/data/raw/h2_year.csv\", header=4)\n",
    "\n",
    "# 연도 컬럼만 선택 (첫 열 '분류별' 제외)\n",
    "years = df.columns[1:]  # 2018~2025\n",
    "\n",
    "#합계(누적) 행 선택 — 첫 행만 사용\n",
    "total_row = df.iloc[0, 1:]  # 첫 행, 2018~2025 값만\n",
    "\n",
    "#연도별 값 추출\n",
    "years = df.columns[1:]  # 2018년~2025년\n",
    "values = [str(total_row[year]).replace(',', '') for year in years]  # 쉼표 제거\n",
    "values = list(map(int, values))  # 숫자로 변환\n",
    "\n",
    "#데이터프레임 생성\n",
    "result_df = pd.DataFrame({\n",
    "    'year': [y.replace('년','') for y in years],\n",
    "    'h2_car_total': values\n",
    "})\n",
    "\n",
    "#CSV 저장\n",
    "result_df.to_csv(\"/Users/anhyebin/Documents/SKN21/SKN21-1st-2Team/data/raw/h2_car_yearly.csv\", index=False, encoding='utf-8-sig')\n"
   ]
  },
  {
   "cell_type": "code",
   "execution_count": 37,
   "id": "4685b162",
   "metadata": {},
   "outputs": [],
   "source": [
    "#연도별 수소차, 전기차 현황\n",
    "\n",
    "import pandas as pd\n",
    "\n",
    "# 파일 불러오기\n",
    "h2_df = pd.read_csv('/Users/anhyebin/Documents/SKN21/SKN21-1st-2Team/data/raw/h2_car_yearly.csv')\n",
    "ev_df = pd.read_csv('/Users/anhyebin/Documents/SKN21/SKN21-1st-2Team/data/raw/ev_car_yearly.csv')\n",
    "\n",
    "#year 기준으로 병합 (inner join)\n",
    "merged_df = pd.merge(h2_df, ev_df, on='year', how='inner')\n",
    "\n",
    "#CSV로 저장\n",
    "\n",
    "merged_df.to_csv(\"/Users/anhyebin/Documents/SKN21/SKN21-1st-2Team/data/processed/annual_h2_ev_registrations.csv\", index=False, encoding='utf-8-sig')\n"
   ]
  },
  {
   "cell_type": "markdown",
   "id": "7560de7a",
   "metadata": {},
   "source": []
  }
 ],
 "metadata": {
  "kernelspec": {
   "display_name": "Python 3",
   "language": "python",
   "name": "python3"
  },
  "language_info": {
   "codemirror_mode": {
    "name": "ipython",
    "version": 3
   },
   "file_extension": ".py",
   "mimetype": "text/x-python",
   "name": "python",
   "nbconvert_exporter": "python",
   "pygments_lexer": "ipython3",
   "version": "3.9.6"
  }
 },
 "nbformat": 4,
 "nbformat_minor": 5
}
